{
 "cells": [
  {
   "cell_type": "code",
   "execution_count": null,
   "metadata": {
    "id": "zS4p6ouI6qYG"
   },
   "outputs": [],
   "source": [
    "!pip3 install sktime\n",
    "!pip3 install pytorch-lightning\n",
    "!pip3 install imblearn"
   ]
  },
  {
   "cell_type": "code",
   "execution_count": 2,
   "metadata": {
    "colab": {
     "base_uri": "https://localhost:8080/"
    },
    "id": "44bw8mfE7Bwk",
    "outputId": "1c8fc836-f5b1-44e5-f0b9-608d0c6a9c2d"
   },
   "outputs": [
    {
     "name": "stdout",
     "output_type": "stream",
     "text": [
      "Mounted at /content/drive\n"
     ]
    }
   ],
   "source": [
    "from google.colab import drive\n",
    "drive.mount('/content/drive')"
   ]
  },
  {
   "cell_type": "code",
   "execution_count": 3,
   "metadata": {
    "id": "SLVIUP-w7SiW"
   },
   "outputs": [],
   "source": [
    "!cp /content/drive/MyDrive/track_1.tar ."
   ]
  },
  {
   "cell_type": "code",
   "execution_count": null,
   "metadata": {
    "id": "Y6QlGshI8ZkW"
   },
   "outputs": [],
   "source": [
    "!tar -xvf track_1.tar"
   ]
  },
  {
   "cell_type": "code",
   "execution_count": 12,
   "metadata": {
    "id": "Ov5xAt5t30v7"
   },
   "outputs": [],
   "source": [
    "from utils import *\n",
    "from dataset import *"
   ]
  },
  {
   "cell_type": "code",
   "execution_count": 13,
   "metadata": {
    "colab": {
     "base_uri": "https://localhost:8080/",
     "height": 419
    },
    "id": "Xqi_rKPg9I5p",
    "outputId": "831d6fb4-36c0-4287-a7f8-b99b67cf46e3"
   },
   "outputs": [
    {
     "data": {
      "text/html": [
       "<div>\n",
       "<style scoped>\n",
       "    .dataframe tbody tr th:only-of-type {\n",
       "        vertical-align: middle;\n",
       "    }\n",
       "\n",
       "    .dataframe tbody tr th {\n",
       "        vertical-align: top;\n",
       "    }\n",
       "\n",
       "    .dataframe thead th {\n",
       "        text-align: right;\n",
       "    }\n",
       "</style>\n",
       "<table border=\"1\" class=\"dataframe\">\n",
       "  <thead>\n",
       "    <tr style=\"text-align: right;\">\n",
       "      <th></th>\n",
       "      <th>path</th>\n",
       "      <th>energy</th>\n",
       "      <th>particle</th>\n",
       "      <th>class_name</th>\n",
       "    </tr>\n",
       "  </thead>\n",
       "  <tbody>\n",
       "    <tr>\n",
       "      <th>0</th>\n",
       "      <td>./idao_dataset/train/NR/-1.48580002784729__CYG...</td>\n",
       "      <td>1</td>\n",
       "      <td>0</td>\n",
       "      <td>NR 1</td>\n",
       "    </tr>\n",
       "    <tr>\n",
       "      <th>1</th>\n",
       "      <td>./idao_dataset/train/NR/0.6015999913215637__CY...</td>\n",
       "      <td>1</td>\n",
       "      <td>0</td>\n",
       "      <td>NR 1</td>\n",
       "    </tr>\n",
       "    <tr>\n",
       "      <th>2</th>\n",
       "      <td>./idao_dataset/train/NR/0.25130000710487366__C...</td>\n",
       "      <td>1</td>\n",
       "      <td>0</td>\n",
       "      <td>NR 1</td>\n",
       "    </tr>\n",
       "    <tr>\n",
       "      <th>3</th>\n",
       "      <td>./idao_dataset/private_test/263711b7666887916d...</td>\n",
       "      <td>-1</td>\n",
       "      <td>-1</td>\n",
       "      <td>ER -1</td>\n",
       "    </tr>\n",
       "    <tr>\n",
       "      <th>4</th>\n",
       "      <td>./idao_dataset/public_test/257b2d6250263096e68...</td>\n",
       "      <td>-1</td>\n",
       "      <td>-1</td>\n",
       "      <td>ER -1</td>\n",
       "    </tr>\n",
       "    <tr>\n",
       "      <th>...</th>\n",
       "      <td>...</td>\n",
       "      <td>...</td>\n",
       "      <td>...</td>\n",
       "      <td>...</td>\n",
       "    </tr>\n",
       "    <tr>\n",
       "      <th>29963</th>\n",
       "      <td>./idao_dataset/private_test/a19fe0430bb05c89ae...</td>\n",
       "      <td>-1</td>\n",
       "      <td>-1</td>\n",
       "      <td>ER -1</td>\n",
       "    </tr>\n",
       "    <tr>\n",
       "      <th>29964</th>\n",
       "      <td>./idao_dataset/train/ER/-1.2565394639968872__C...</td>\n",
       "      <td>3</td>\n",
       "      <td>1</td>\n",
       "      <td>ER 3</td>\n",
       "    </tr>\n",
       "    <tr>\n",
       "      <th>29965</th>\n",
       "      <td>./idao_dataset/train/ER/0.4510352313518524__CY...</td>\n",
       "      <td>10</td>\n",
       "      <td>1</td>\n",
       "      <td>ER 10</td>\n",
       "    </tr>\n",
       "    <tr>\n",
       "      <th>29966</th>\n",
       "      <td>./idao_dataset/private_test/a11ba4a2d8750a7e9e...</td>\n",
       "      <td>-1</td>\n",
       "      <td>-1</td>\n",
       "      <td>ER -1</td>\n",
       "    </tr>\n",
       "    <tr>\n",
       "      <th>29967</th>\n",
       "      <td>./idao_dataset/private_test/1c0febd57c07c6d30e...</td>\n",
       "      <td>-1</td>\n",
       "      <td>-1</td>\n",
       "      <td>ER -1</td>\n",
       "    </tr>\n",
       "  </tbody>\n",
       "</table>\n",
       "<p>29968 rows × 4 columns</p>\n",
       "</div>"
      ],
      "text/plain": [
       "                                                    path  ...  class_name\n",
       "0      ./idao_dataset/train/NR/-1.48580002784729__CYG...  ...        NR 1\n",
       "1      ./idao_dataset/train/NR/0.6015999913215637__CY...  ...        NR 1\n",
       "2      ./idao_dataset/train/NR/0.25130000710487366__C...  ...        NR 1\n",
       "3      ./idao_dataset/private_test/263711b7666887916d...  ...       ER -1\n",
       "4      ./idao_dataset/public_test/257b2d6250263096e68...  ...       ER -1\n",
       "...                                                  ...  ...         ...\n",
       "29963  ./idao_dataset/private_test/a19fe0430bb05c89ae...  ...       ER -1\n",
       "29964  ./idao_dataset/train/ER/-1.2565394639968872__C...  ...        ER 3\n",
       "29965  ./idao_dataset/train/ER/0.4510352313518524__CY...  ...       ER 10\n",
       "29966  ./idao_dataset/private_test/a11ba4a2d8750a7e9e...  ...       ER -1\n",
       "29967  ./idao_dataset/private_test/1c0febd57c07c6d30e...  ...       ER -1\n",
       "\n",
       "[29968 rows x 4 columns]"
      ]
     },
     "execution_count": 13,
     "metadata": {
      "tags": []
     },
     "output_type": "execute_result"
    }
   ],
   "source": [
    "df = files_to_df()\n",
    "df"
   ]
  },
  {
   "cell_type": "code",
   "execution_count": 17,
   "metadata": {
    "id": "qsi24-Su9J6r"
   },
   "outputs": [],
   "source": [
    "take_samples = 3\n",
    "_cls = df['class_name'].unique()\n",
    "idx = np.array([])\n",
    "for c in _cls:\n",
    "  if '-1' in c:\n",
    "    continue\n",
    "  class_samples = df[df['class_name'] == c]\n",
    "  idx = np.concatenate((idx, class_samples.index.values[:min(class_samples.shape[0], take_samples)]))\n",
    "\n"
   ]
  },
  {
   "cell_type": "code",
   "execution_count": 159,
   "metadata": {
    "colab": {
     "base_uri": "https://localhost:8080/"
    },
    "id": "_T0Zv13v-Lxd",
    "outputId": "cfdcd65a-32ca-473a-e7cc-7d90d793d20b"
   },
   "outputs": [
    {
     "data": {
      "text/plain": [
       "1    15\n",
       "0    15\n",
       "Name: particle, dtype: int64"
      ]
     },
     "execution_count": 159,
     "metadata": {
      "tags": []
     },
     "output_type": "execute_result"
    }
   ],
   "source": [
    "support_df = df[df.index.isin(idx)]\n",
    "train_df = df[(~df.index.isin(idx)) & (df.particle != -1)]\n",
    "\n",
    "support_df['particle'].value_counts()"
   ]
  },
  {
   "cell_type": "code",
   "execution_count": 224,
   "metadata": {
    "colab": {
     "base_uri": "https://localhost:8080/"
    },
    "id": "Dh6BMNgQWXMD",
    "outputId": "8f687b41-0b5a-4724-f477-1287de417169"
   },
   "outputs": [
    {
     "data": {
      "text/plain": [
       "((100, 4), (100, 4))"
      ]
     },
     "execution_count": 224,
     "metadata": {
      "tags": []
     },
     "output_type": "execute_result"
    }
   ],
   "source": [
    "train_df, val_df = train_test_split(train_df, stratify=train_df.particle, test_size=0.5, random_state = 0)\n",
    "train_df = train_df[:100]\n",
    "val_df = train_df[:100]\n",
    "val_df.shape, train_df.shape"
   ]
  },
  {
   "cell_type": "code",
   "execution_count": 226,
   "metadata": {
    "colab": {
     "base_uri": "https://localhost:8080/"
    },
    "id": "s8FqewbNc1Dq",
    "outputId": "ad541bb2-58ed-4ce2-f76b-2381dbf21ea1"
   },
   "outputs": [
    {
     "data": {
      "text/plain": [
       "0    51\n",
       "1    49\n",
       "Name: particle, dtype: int64"
      ]
     },
     "execution_count": 226,
     "metadata": {
      "tags": []
     },
     "output_type": "execute_result"
    }
   ],
   "source": [
    "train_df.particle.value_counts()"
   ]
  },
  {
   "cell_type": "code",
   "execution_count": 227,
   "metadata": {
    "id": "UdGWlGrFqMMQ"
   },
   "outputs": [],
   "source": [
    "#Dataset\n",
    "class ParticleDataset(Dataset):\n",
    "  def __init__(self, df, transforms=None):\n",
    "    self.df = df\n",
    "    self.transforms = transforms\n",
    "  \n",
    "  def __len__(self):\n",
    "    return self.df.shape[0]\n",
    "  \n",
    "  def __getitem__(self, _id):\n",
    "    img_path = self.df.iloc[_id].path\n",
    "    label = self.df.iloc[_id].particle\n",
    "    img = read_im(img_path, self.transforms)\n",
    "\n",
    "    return img.float(), torch.tensor(label)"
   ]
  },
  {
   "cell_type": "code",
   "execution_count": 228,
   "metadata": {
    "id": "n6kxgJLIXgaI"
   },
   "outputs": [],
   "source": [
    "train = ParticleDataset(train_df)\n",
    "val = ParticleDataset(val_df)\n",
    "\n",
    "train_loader = DataLoader(train, 32)\n",
    "val_loader = DataLoader(val, 32)"
   ]
  },
  {
   "cell_type": "code",
   "execution_count": 229,
   "metadata": {
    "id": "HWVtqZSzzKDU"
   },
   "outputs": [],
   "source": [
    "#Model\n",
    "class Embedder(nn.Module):\n",
    "  def set_zero_seed():\n",
    "    random.seed(0)\n",
    "    torch.manual_seed(0)\n",
    "    torch.cuda.manual_seed(0)\n",
    "\n",
    "  def conv2block(self, in_channels, out_channels=64, kernel_size=3): \n",
    "    block = nn.Sequential(\n",
    "        nn.Conv2d(in_channels, out_channels, kernel_size),\n",
    "        nn.BatchNorm2d(out_channels),\n",
    "        nn.ReLU(),\n",
    "        nn.MaxPool2d(kernel_size=2)\n",
    "    )\n",
    "    return block\n",
    "  \n",
    "  def __init__ (self, in_channels=3):\n",
    "    super(Embedder, self).__init__()\n",
    "    self.convnet1 = self.conv2block(in_channels)\n",
    "    self.convnet2 = self.conv2block(64)\n",
    "    self.convnet3 = self.conv2block(64)\n",
    "    self.convnet4 = self.conv2block(64)\n",
    "  \n",
    "  def forward(self, x):\n",
    "    x = self.convnet1(x)\n",
    "    x = self.convnet2(x)\n",
    "    x = self.convnet3(x)\n",
    "    x = self.convnet4(x)\n",
    "    x = x.reshape(x.shape[0], -1) #flatten\n",
    "    return x\n"
   ]
  },
  {
   "cell_type": "code",
   "execution_count": 230,
   "metadata": {
    "id": "SlwzHeU84WF2"
   },
   "outputs": [],
   "source": [
    "def set_zero_seed():\n",
    "    random.seed(0)\n",
    "    torch.manual_seed(0)\n",
    "    torch.cuda.manual_seed(0)"
   ]
  },
  {
   "cell_type": "code",
   "execution_count": 231,
   "metadata": {
    "id": "JpjfU--e40mO"
   },
   "outputs": [],
   "source": [
    "class ProtoNet(pl.LightningModule):\n",
    "  def __init__(self, support):\n",
    "    super(ProtoNet, self).__init__()\n",
    "\n",
    "    print(self.device)\n",
    "    set_zero_seed()\n",
    "    self.encoder = Embedder()\n",
    "    self.support = support\n",
    "    self.loss = nn.NLLLoss()\n",
    "\n",
    "  def forward(self, query):\n",
    "    support_embeddings = self.encoder(self.support)\n",
    "    query_embeddings = self.encoder(query)\n",
    "    #print(query_embeddings.shape)\n",
    "    prototypes = self.get_prototypes(support_embeddings)\n",
    "\n",
    "    distances = self.pairwise_distances(query_embeddings, prototypes)\n",
    "\n",
    "    y_pred = (-distances).softmax(dim=1).argmax(dim=1)\n",
    "\n",
    "    return y_pred, distances\n",
    "\n",
    "  def training_step(self, batch, batch_idx):\n",
    "    imgs, labels = batch\n",
    "    preds, distances = self(imgs)\n",
    "    log_p_y = (-distances).log_softmax(dim=1)\n",
    "  \n",
    "    loss = self.loss(log_p_y, labels)\n",
    "    self.log('train_loss', loss, prog_bar=True, logger=True)\n",
    "    return loss\n",
    "\n",
    "  def validation_step(self, batch, batch_idx):\n",
    "      val_images, val_labels = batch\n",
    "      preds, distances = self(val_images)\n",
    "      acc = accuracy_score(val_labels, preds)\n",
    "      self.log('val_acc', acc, prog_bar=True, logger=True)\n",
    "      return val_labels.cpu(), torch.Tensor(preds.float())\n",
    "\n",
    "  def configure_optimizers(self):\n",
    "      optimizer = torch.optim.Adam(self.parameters())\n",
    "      return optimizer\n",
    "\n",
    "  def get_prototypes(self, support, k_way=2, n_shot=15):\n",
    "    class_prototypes = support.reshape(k_way, n_shot, -1).mean(dim=1)\n",
    "    return class_prototypes\n",
    "\n",
    "  def pairwise_distances(self, x, y):\n",
    "    n = x.size(0)\n",
    "    m = y.size(0)\n",
    "    d = x.size(1)\n",
    "\n",
    "    if d != y.size(1):\n",
    "      print(x.shape, y.shape)\n",
    "      raise Exception\n",
    "\n",
    "    x = x.unsqueeze(1).expand(n, m, d)\n",
    "    y = y.unsqueeze(0).expand(n, m, d)\n",
    "\n",
    "    return torch.pow(x - y, 2).sum(2)\n",
    "  \n",
    "  "
   ]
  },
  {
   "cell_type": "code",
   "execution_count": 232,
   "metadata": {
    "colab": {
     "base_uri": "https://localhost:8080/"
    },
    "id": "kAppWEANOZtv",
    "outputId": "92b06746-89ac-4494-d0c0-aaf88235ea7d"
   },
   "outputs": [
    {
     "data": {
      "text/plain": [
       "torch.Size([30, 3, 100, 100])"
      ]
     },
     "execution_count": 232,
     "metadata": {
      "tags": []
     },
     "output_type": "execute_result"
    }
   ],
   "source": [
    "support_df = support_df.sort_values(by='particle')\n",
    "imgs = []\n",
    "for i in range(0, len(support_df)):\n",
    "  imgs.append(read_im(support_df.iloc[i].path).float())\n",
    "\n",
    "support = torch.stack(imgs)\n",
    "support.shape"
   ]
  },
  {
   "cell_type": "code",
   "execution_count": 233,
   "metadata": {
    "colab": {
     "base_uri": "https://localhost:8080/"
    },
    "id": "i0aoxry6Vmkz",
    "outputId": "07b2a20e-5ca9-4b60-8d48-94a3fab01dfa"
   },
   "outputs": [
    {
     "name": "stderr",
     "output_type": "stream",
     "text": [
      "GPU available: True, used: False\n",
      "TPU available: None, using: 0 TPU cores\n"
     ]
    },
    {
     "name": "stdout",
     "output_type": "stream",
     "text": [
      "cpu\n"
     ]
    },
    {
     "name": "stderr",
     "output_type": "stream",
     "text": [
      "/usr/local/lib/python3.7/dist-packages/pytorch_lightning/utilities/distributed.py:51: UserWarning: GPU available but not used. Set the --gpus flag when calling the script.\n",
      "  warnings.warn(*args, **kwargs)\n"
     ]
    }
   ],
   "source": [
    "from pytorch_lightning.loggers import *\n",
    "\n",
    "logger = TensorBoardLogger(\"tb_logs\", name=\"classification_model\")\n",
    "\n",
    "model = ProtoNet(support)\n",
    "\n",
    "trainer = pl.Trainer(check_val_every_n_epoch=10, gpus=0, max_epochs=100, callbacks=[LitProgressBar()], logger=logger)"
   ]
  },
  {
   "cell_type": "code",
   "execution_count": null,
   "metadata": {
    "colab": {
     "base_uri": "https://localhost:8080/",
     "height": 219,
     "referenced_widgets": [
      "7fc289887bd34c43a2579d51a017c730",
      "118a08fc27de47d6bb1ea4367f484c84",
      "82826e39eb1841de9b8e58556184f276",
      "0abfe29851844052adf3f09418b6298b",
      "c239e6ea16f740a6916b12b8d0115e83",
      "7bfef830f1c848d5b7ef15fccb93b910",
      "54288285dfee484ea9a4c2faeb24dc4e",
      "dbb2b332c68f458489fdf332e7bee003",
      "8722933e04c64af485cf4b70a1be9c22",
      "b6c8fa6e400e41a781da4b882c2e3087",
      "e2e7ecdee2c949f09701b8d2eee3a074",
      "b477d6b8566b482494e25735b9428694",
      "8a23dad05d87423bba7f460471a54ae4",
      "08deda8f0d7c4cff956309cb9b86e368",
      "21fa1b5f3cab4d5c8f6a86d2a935cb4d",
      "0026262239694c428e0ace2f11d206f1"
     ]
    },
    "id": "xoYE7YUhWRCf",
    "outputId": "fc2c4e04-5114-420a-bb09-db73ad745eee"
   },
   "outputs": [
    {
     "name": "stderr",
     "output_type": "stream",
     "text": [
      "\n",
      "  | Name    | Type     | Params\n",
      "-------------------------------------\n",
      "0 | encoder | Embedder | 113 K \n",
      "1 | loss    | NLLLoss  | 0     \n",
      "-------------------------------------\n",
      "113 K     Trainable params\n",
      "0         Non-trainable params\n",
      "113 K     Total params\n",
      "0.452     Total estimated model params size (MB)\n"
     ]
    },
    {
     "data": {
      "application/vnd.jupyter.widget-view+json": {
       "model_id": "7fc289887bd34c43a2579d51a017c730",
       "version_major": 2,
       "version_minor": 0
      },
      "text/plain": [
       "HBox(children=(FloatProgress(value=1.0, bar_style='info', description='Validation sanity check', layout=Layout…"
      ]
     },
     "metadata": {
      "tags": []
     },
     "output_type": "display_data"
    },
    {
     "name": "stdout",
     "output_type": "stream",
     "text": [
      "\r"
     ]
    },
    {
     "data": {
      "application/vnd.jupyter.widget-view+json": {
       "model_id": "8722933e04c64af485cf4b70a1be9c22",
       "version_major": 2,
       "version_minor": 0
      },
      "text/plain": [
       "HBox(children=(FloatProgress(value=1.0, bar_style='info', description='Training', layout=Layout(flex='2'), max…"
      ]
     },
     "metadata": {
      "tags": []
     },
     "output_type": "display_data"
    }
   ],
   "source": [
    "trainer.fit(model, train_loader, val_loader)"
   ]
  },
  {
   "cell_type": "code",
   "execution_count": null,
   "metadata": {
    "id": "w9H780IaebLE"
   },
   "outputs": [],
   "source": []
  }
 ],
 "metadata": {
  "accelerator": "GPU",
  "colab": {
   "collapsed_sections": [],
   "name": "protonets.ipynb",
   "provenance": []
  },
  "kernelspec": {
   "display_name": "Python 3",
   "language": "python",
   "name": "python3"
  },
  "language_info": {
   "codemirror_mode": {
    "name": "ipython",
    "version": 3
   },
   "file_extension": ".py",
   "mimetype": "text/x-python",
   "name": "python",
   "nbconvert_exporter": "python",
   "pygments_lexer": "ipython3",
   "version": "3.8.10"
  },
  "widgets": {
   "application/vnd.jupyter.widget-state+json": {
    "0026262239694c428e0ace2f11d206f1": {
     "model_module": "@jupyter-widgets/base",
     "model_name": "LayoutModel",
     "state": {
      "_model_module": "@jupyter-widgets/base",
      "_model_module_version": "1.2.0",
      "_model_name": "LayoutModel",
      "_view_count": null,
      "_view_module": "@jupyter-widgets/base",
      "_view_module_version": "1.2.0",
      "_view_name": "LayoutView",
      "align_content": null,
      "align_items": null,
      "align_self": null,
      "border": null,
      "bottom": null,
      "display": null,
      "flex": null,
      "flex_flow": null,
      "grid_area": null,
      "grid_auto_columns": null,
      "grid_auto_flow": null,
      "grid_auto_rows": null,
      "grid_column": null,
      "grid_gap": null,
      "grid_row": null,
      "grid_template_areas": null,
      "grid_template_columns": null,
      "grid_template_rows": null,
      "height": null,
      "justify_content": null,
      "justify_items": null,
      "left": null,
      "margin": null,
      "max_height": null,
      "max_width": null,
      "min_height": null,
      "min_width": null,
      "object_fit": null,
      "object_position": null,
      "order": null,
      "overflow": null,
      "overflow_x": null,
      "overflow_y": null,
      "padding": null,
      "right": null,
      "top": null,
      "visibility": null,
      "width": null
     }
    },
    "08deda8f0d7c4cff956309cb9b86e368": {
     "model_module": "@jupyter-widgets/base",
     "model_name": "LayoutModel",
     "state": {
      "_model_module": "@jupyter-widgets/base",
      "_model_module_version": "1.2.0",
      "_model_name": "LayoutModel",
      "_view_count": null,
      "_view_module": "@jupyter-widgets/base",
      "_view_module_version": "1.2.0",
      "_view_name": "LayoutView",
      "align_content": null,
      "align_items": null,
      "align_self": null,
      "border": null,
      "bottom": null,
      "display": null,
      "flex": "2",
      "flex_flow": null,
      "grid_area": null,
      "grid_auto_columns": null,
      "grid_auto_flow": null,
      "grid_auto_rows": null,
      "grid_column": null,
      "grid_gap": null,
      "grid_row": null,
      "grid_template_areas": null,
      "grid_template_columns": null,
      "grid_template_rows": null,
      "height": null,
      "justify_content": null,
      "justify_items": null,
      "left": null,
      "margin": null,
      "max_height": null,
      "max_width": null,
      "min_height": null,
      "min_width": null,
      "object_fit": null,
      "object_position": null,
      "order": null,
      "overflow": null,
      "overflow_x": null,
      "overflow_y": null,
      "padding": null,
      "right": null,
      "top": null,
      "visibility": null,
      "width": null
     }
    },
    "0abfe29851844052adf3f09418b6298b": {
     "model_module": "@jupyter-widgets/controls",
     "model_name": "HTMLModel",
     "state": {
      "_dom_classes": [],
      "_model_module": "@jupyter-widgets/controls",
      "_model_module_version": "1.5.0",
      "_model_name": "HTMLModel",
      "_view_count": null,
      "_view_module": "@jupyter-widgets/controls",
      "_view_module_version": "1.5.0",
      "_view_name": "HTMLView",
      "description": "",
      "description_tooltip": null,
      "layout": "IPY_MODEL_dbb2b332c68f458489fdf332e7bee003",
      "placeholder": "​",
      "style": "IPY_MODEL_54288285dfee484ea9a4c2faeb24dc4e",
      "value": " 2/2 [00:01&lt;00:00,  1.20it/s]"
     }
    },
    "118a08fc27de47d6bb1ea4367f484c84": {
     "model_module": "@jupyter-widgets/base",
     "model_name": "LayoutModel",
     "state": {
      "_model_module": "@jupyter-widgets/base",
      "_model_module_version": "1.2.0",
      "_model_name": "LayoutModel",
      "_view_count": null,
      "_view_module": "@jupyter-widgets/base",
      "_view_module_version": "1.2.0",
      "_view_name": "LayoutView",
      "align_content": null,
      "align_items": null,
      "align_self": null,
      "border": null,
      "bottom": null,
      "display": "inline-flex",
      "flex": null,
      "flex_flow": "row wrap",
      "grid_area": null,
      "grid_auto_columns": null,
      "grid_auto_flow": null,
      "grid_auto_rows": null,
      "grid_column": null,
      "grid_gap": null,
      "grid_row": null,
      "grid_template_areas": null,
      "grid_template_columns": null,
      "grid_template_rows": null,
      "height": null,
      "justify_content": null,
      "justify_items": null,
      "left": null,
      "margin": null,
      "max_height": null,
      "max_width": null,
      "min_height": null,
      "min_width": null,
      "object_fit": null,
      "object_position": null,
      "order": null,
      "overflow": null,
      "overflow_x": null,
      "overflow_y": null,
      "padding": null,
      "right": null,
      "top": null,
      "visibility": null,
      "width": "100%"
     }
    },
    "21fa1b5f3cab4d5c8f6a86d2a935cb4d": {
     "model_module": "@jupyter-widgets/controls",
     "model_name": "DescriptionStyleModel",
     "state": {
      "_model_module": "@jupyter-widgets/controls",
      "_model_module_version": "1.5.0",
      "_model_name": "DescriptionStyleModel",
      "_view_count": null,
      "_view_module": "@jupyter-widgets/base",
      "_view_module_version": "1.2.0",
      "_view_name": "StyleView",
      "description_width": ""
     }
    },
    "54288285dfee484ea9a4c2faeb24dc4e": {
     "model_module": "@jupyter-widgets/controls",
     "model_name": "DescriptionStyleModel",
     "state": {
      "_model_module": "@jupyter-widgets/controls",
      "_model_module_version": "1.5.0",
      "_model_name": "DescriptionStyleModel",
      "_view_count": null,
      "_view_module": "@jupyter-widgets/base",
      "_view_module_version": "1.2.0",
      "_view_name": "StyleView",
      "description_width": ""
     }
    },
    "7bfef830f1c848d5b7ef15fccb93b910": {
     "model_module": "@jupyter-widgets/base",
     "model_name": "LayoutModel",
     "state": {
      "_model_module": "@jupyter-widgets/base",
      "_model_module_version": "1.2.0",
      "_model_name": "LayoutModel",
      "_view_count": null,
      "_view_module": "@jupyter-widgets/base",
      "_view_module_version": "1.2.0",
      "_view_name": "LayoutView",
      "align_content": null,
      "align_items": null,
      "align_self": null,
      "border": null,
      "bottom": null,
      "display": null,
      "flex": "2",
      "flex_flow": null,
      "grid_area": null,
      "grid_auto_columns": null,
      "grid_auto_flow": null,
      "grid_auto_rows": null,
      "grid_column": null,
      "grid_gap": null,
      "grid_row": null,
      "grid_template_areas": null,
      "grid_template_columns": null,
      "grid_template_rows": null,
      "height": null,
      "justify_content": null,
      "justify_items": null,
      "left": null,
      "margin": null,
      "max_height": null,
      "max_width": null,
      "min_height": null,
      "min_width": null,
      "object_fit": null,
      "object_position": null,
      "order": null,
      "overflow": null,
      "overflow_x": null,
      "overflow_y": null,
      "padding": null,
      "right": null,
      "top": null,
      "visibility": null,
      "width": null
     }
    },
    "7fc289887bd34c43a2579d51a017c730": {
     "model_module": "@jupyter-widgets/controls",
     "model_name": "HBoxModel",
     "state": {
      "_dom_classes": [],
      "_model_module": "@jupyter-widgets/controls",
      "_model_module_version": "1.5.0",
      "_model_name": "HBoxModel",
      "_view_count": null,
      "_view_module": "@jupyter-widgets/controls",
      "_view_module_version": "1.5.0",
      "_view_name": "HBoxView",
      "box_style": "",
      "children": [
       "IPY_MODEL_82826e39eb1841de9b8e58556184f276",
       "IPY_MODEL_0abfe29851844052adf3f09418b6298b"
      ],
      "layout": "IPY_MODEL_118a08fc27de47d6bb1ea4367f484c84"
     }
    },
    "82826e39eb1841de9b8e58556184f276": {
     "model_module": "@jupyter-widgets/controls",
     "model_name": "FloatProgressModel",
     "state": {
      "_dom_classes": [],
      "_model_module": "@jupyter-widgets/controls",
      "_model_module_version": "1.5.0",
      "_model_name": "FloatProgressModel",
      "_view_count": null,
      "_view_module": "@jupyter-widgets/controls",
      "_view_module_version": "1.5.0",
      "_view_name": "ProgressView",
      "bar_style": "info",
      "description": "Validation sanity check: 100%",
      "description_tooltip": null,
      "layout": "IPY_MODEL_7bfef830f1c848d5b7ef15fccb93b910",
      "max": 2,
      "min": 0,
      "orientation": "horizontal",
      "style": "IPY_MODEL_c239e6ea16f740a6916b12b8d0115e83",
      "value": 2
     }
    },
    "8722933e04c64af485cf4b70a1be9c22": {
     "model_module": "@jupyter-widgets/controls",
     "model_name": "HBoxModel",
     "state": {
      "_dom_classes": [],
      "_model_module": "@jupyter-widgets/controls",
      "_model_module_version": "1.5.0",
      "_model_name": "HBoxModel",
      "_view_count": null,
      "_view_module": "@jupyter-widgets/controls",
      "_view_module_version": "1.5.0",
      "_view_name": "HBoxView",
      "box_style": "",
      "children": [
       "IPY_MODEL_e2e7ecdee2c949f09701b8d2eee3a074",
       "IPY_MODEL_b477d6b8566b482494e25735b9428694"
      ],
      "layout": "IPY_MODEL_b6c8fa6e400e41a781da4b882c2e3087"
     }
    },
    "8a23dad05d87423bba7f460471a54ae4": {
     "model_module": "@jupyter-widgets/controls",
     "model_name": "ProgressStyleModel",
     "state": {
      "_model_module": "@jupyter-widgets/controls",
      "_model_module_version": "1.5.0",
      "_model_name": "ProgressStyleModel",
      "_view_count": null,
      "_view_module": "@jupyter-widgets/base",
      "_view_module_version": "1.2.0",
      "_view_name": "StyleView",
      "bar_color": null,
      "description_width": "initial"
     }
    },
    "b477d6b8566b482494e25735b9428694": {
     "model_module": "@jupyter-widgets/controls",
     "model_name": "HTMLModel",
     "state": {
      "_dom_classes": [],
      "_model_module": "@jupyter-widgets/controls",
      "_model_module_version": "1.5.0",
      "_model_name": "HTMLModel",
      "_view_count": null,
      "_view_module": "@jupyter-widgets/controls",
      "_view_module_version": "1.5.0",
      "_view_name": "HTMLView",
      "description": "",
      "description_tooltip": null,
      "layout": "IPY_MODEL_0026262239694c428e0ace2f11d206f1",
      "placeholder": "​",
      "style": "IPY_MODEL_21fa1b5f3cab4d5c8f6a86d2a935cb4d",
      "value": " 1/4 [00:02&lt;00:06,  2.16s/it, loss=0.00173, v_num=26, val_acc=0.990, train_loss=5.96e-8]"
     }
    },
    "b6c8fa6e400e41a781da4b882c2e3087": {
     "model_module": "@jupyter-widgets/base",
     "model_name": "LayoutModel",
     "state": {
      "_model_module": "@jupyter-widgets/base",
      "_model_module_version": "1.2.0",
      "_model_name": "LayoutModel",
      "_view_count": null,
      "_view_module": "@jupyter-widgets/base",
      "_view_module_version": "1.2.0",
      "_view_name": "LayoutView",
      "align_content": null,
      "align_items": null,
      "align_self": null,
      "border": null,
      "bottom": null,
      "display": "inline-flex",
      "flex": null,
      "flex_flow": "row wrap",
      "grid_area": null,
      "grid_auto_columns": null,
      "grid_auto_flow": null,
      "grid_auto_rows": null,
      "grid_column": null,
      "grid_gap": null,
      "grid_row": null,
      "grid_template_areas": null,
      "grid_template_columns": null,
      "grid_template_rows": null,
      "height": null,
      "justify_content": null,
      "justify_items": null,
      "left": null,
      "margin": null,
      "max_height": null,
      "max_width": null,
      "min_height": null,
      "min_width": null,
      "object_fit": null,
      "object_position": null,
      "order": null,
      "overflow": null,
      "overflow_x": null,
      "overflow_y": null,
      "padding": null,
      "right": null,
      "top": null,
      "visibility": null,
      "width": "100%"
     }
    },
    "c239e6ea16f740a6916b12b8d0115e83": {
     "model_module": "@jupyter-widgets/controls",
     "model_name": "ProgressStyleModel",
     "state": {
      "_model_module": "@jupyter-widgets/controls",
      "_model_module_version": "1.5.0",
      "_model_name": "ProgressStyleModel",
      "_view_count": null,
      "_view_module": "@jupyter-widgets/base",
      "_view_module_version": "1.2.0",
      "_view_name": "StyleView",
      "bar_color": null,
      "description_width": "initial"
     }
    },
    "dbb2b332c68f458489fdf332e7bee003": {
     "model_module": "@jupyter-widgets/base",
     "model_name": "LayoutModel",
     "state": {
      "_model_module": "@jupyter-widgets/base",
      "_model_module_version": "1.2.0",
      "_model_name": "LayoutModel",
      "_view_count": null,
      "_view_module": "@jupyter-widgets/base",
      "_view_module_version": "1.2.0",
      "_view_name": "LayoutView",
      "align_content": null,
      "align_items": null,
      "align_self": null,
      "border": null,
      "bottom": null,
      "display": null,
      "flex": null,
      "flex_flow": null,
      "grid_area": null,
      "grid_auto_columns": null,
      "grid_auto_flow": null,
      "grid_auto_rows": null,
      "grid_column": null,
      "grid_gap": null,
      "grid_row": null,
      "grid_template_areas": null,
      "grid_template_columns": null,
      "grid_template_rows": null,
      "height": null,
      "justify_content": null,
      "justify_items": null,
      "left": null,
      "margin": null,
      "max_height": null,
      "max_width": null,
      "min_height": null,
      "min_width": null,
      "object_fit": null,
      "object_position": null,
      "order": null,
      "overflow": null,
      "overflow_x": null,
      "overflow_y": null,
      "padding": null,
      "right": null,
      "top": null,
      "visibility": null,
      "width": null
     }
    },
    "e2e7ecdee2c949f09701b8d2eee3a074": {
     "model_module": "@jupyter-widgets/controls",
     "model_name": "FloatProgressModel",
     "state": {
      "_dom_classes": [],
      "_model_module": "@jupyter-widgets/controls",
      "_model_module_version": "1.5.0",
      "_model_name": "FloatProgressModel",
      "_view_count": null,
      "_view_module": "@jupyter-widgets/controls",
      "_view_module_version": "1.5.0",
      "_view_name": "ProgressView",
      "bar_style": "info",
      "description": "Epoch 12:  25%",
      "description_tooltip": null,
      "layout": "IPY_MODEL_08deda8f0d7c4cff956309cb9b86e368",
      "max": 4,
      "min": 0,
      "orientation": "horizontal",
      "style": "IPY_MODEL_8a23dad05d87423bba7f460471a54ae4",
      "value": 1
     }
    }
   }
  }
 },
 "nbformat": 4,
 "nbformat_minor": 1
}
